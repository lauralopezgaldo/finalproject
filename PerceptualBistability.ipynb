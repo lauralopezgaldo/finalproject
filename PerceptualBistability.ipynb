{
 "cells": [
  {
   "cell_type": "markdown",
   "metadata": {},
   "source": [
    "# Fundamentals of Computer Science - PERCEPTUAL BISTABILITY"
   ]
  },
  {
   "cell_type": "code",
   "execution_count": 2,
   "metadata": {},
   "outputs": [],
   "source": [
    "#Import all the required modules\n",
    "import numpy as np\n",
    "from scipy.integrate import odeint\n",
    "import matplotlib.pyplot as plt"
   ]
  },
  {
   "cell_type": "markdown",
   "metadata": {},
   "source": [
    "## Exercise 1\n",
    "#### In this exercise we will explore a model of binocular rivalry presented by Laing and Chow (2002).While their paper included a spiking network model, we will concern ourselves only with their reduced population rate model."
   ]
  },
  {
   "cell_type": "code",
   "execution_count": 14,
   "metadata": {},
   "outputs": [
    {
     "name": "stderr",
     "output_type": "stream",
     "text": [
      "C:\\Users\\laura\\Anaconda3\\lib\\site-packages\\scipy\\integrate\\odepack.py:236: ODEintWarning: Excess work done on this call (perhaps wrong Dfun type). Run with full_output = 1 to get quantitative information.\n",
      "  warnings.warn(warning_msg, ODEintWarning)\n"
     ]
    },
    {
     "data": {
      "text/plain": [
       "[<matplotlib.lines.Line2D at 0x22d4d124b00>]"
      ]
     },
     "execution_count": 14,
     "metadata": {},
     "output_type": "execute_result"
    },
    {
     "data": {
      "image/png": "[encoded data removed]",
      "text/plain": [
       "<Figure size 432x288 with 1 Axes>"
      ]
     },
     "metadata": {
      "needs_background": "light"
     },
     "output_type": "display_data"
    }
   ],
   "source": [
    "#OPTION ONE \n",
    "u1 = 1; a1 = 0.1; u2 = 0; a2 = 0.25\n",
    "t = np.linspace(0,500,num=200)\n",
    "#t = np.arange(0,500,0.1)\n",
    "x_0 = [u1, a1, u2, a2]; # initial conditions\n",
    "I1 = 0.43; I2 = 0.5;\n",
    "I = (I1,I2)\n",
    "\n",
    "def  laing_chow (val, t, I1, I2) :\n",
    "    alpha = 0.2 ; beta = 0.4; phi = 0.4; tau = 20 ; g1 = 1; g2 = 1;\n",
    "    u1,a1,u2,a2 = val\n",
    "    du1dt = - u1 + np.heaviside(alpha*u1*g1 - beta*u2*g2 - a1 + I1,0 )\n",
    "    du2dt = - u2 + np.heaviside(alpha*u2*g2 - beta*u1*g1 - a2 + I2,0)  \n",
    "    da1dt = (1/tau)* (-a1 + phi*np.heaviside(alpha*u1*g1 - beta*u2*g2 - a1 + I1,0))\n",
    "    da2dt = (1/tau)* (-a2 + phi*np.heaviside(alpha*u2*g2 - beta*u1*g1 - a2 + I2,0))\n",
    "    y = [du1dt , du2dt, da1dt, da2dt]\n",
    "    return y\n",
    "\n",
    "sol = odeint(laing_chow, x_0, t, args=(I1,I2))\n",
    "sol\n",
    "u1 = sol [:,0]; u2 = sol [:,1]; a1 = sol [:,2]; a2 = sol [:,3]\n",
    "\n",
    "plt.plot(a2)"
   ]
  },
  {
   "cell_type": "code",
   "execution_count": 8,
   "metadata": {},
   "outputs": [
    {
     "ename": "ValueError",
     "evalue": "Initial condition y0 must be one-dimensional.",
     "output_type": "error",
     "traceback": [
      "\u001b[1;31m---------------------------------------------------------------------------\u001b[0m",
      "\u001b[1;31mValueError\u001b[0m                                Traceback (most recent call last)",
      "\u001b[1;32m<ipython-input-8-a59b810640c3>\u001b[0m in \u001b[0;36m<module>\u001b[1;34m()\u001b[0m\n\u001b[0;32m     20\u001b[0m     \u001b[1;32mreturn\u001b[0m \u001b[0my\u001b[0m\u001b[1;33m\u001b[0m\u001b[0m\n\u001b[0;32m     21\u001b[0m \u001b[1;33m\u001b[0m\u001b[0m\n\u001b[1;32m---> 22\u001b[1;33m \u001b[0msol\u001b[0m \u001b[1;33m=\u001b[0m \u001b[0modeint\u001b[0m\u001b[1;33m(\u001b[0m\u001b[0mlaing_chow\u001b[0m\u001b[1;33m,\u001b[0m \u001b[0mx_0\u001b[0m\u001b[1;33m,\u001b[0m \u001b[0mt\u001b[0m\u001b[1;33m,\u001b[0m \u001b[0margs\u001b[0m\u001b[1;33m=\u001b[0m\u001b[1;33m(\u001b[0m\u001b[0mI1\u001b[0m\u001b[1;33m,\u001b[0m\u001b[0mI2\u001b[0m\u001b[1;33m)\u001b[0m\u001b[1;33m)\u001b[0m\u001b[1;33m\u001b[0m\u001b[0m\n\u001b[0m\u001b[0;32m     23\u001b[0m \u001b[0mplt\u001b[0m\u001b[1;33m.\u001b[0m\u001b[0mplot\u001b[0m\u001b[1;33m(\u001b[0m\u001b[0msol\u001b[0m\u001b[1;33m[\u001b[0m\u001b[1;33m:\u001b[0m\u001b[1;33m,\u001b[0m\u001b[1;36m0\u001b[0m\u001b[1;33m]\u001b[0m\u001b[1;33m)\u001b[0m\u001b[1;33m\u001b[0m\u001b[0m\n",
      "\u001b[1;32m~\\Anaconda3\\lib\\site-packages\\scipy\\integrate\\odepack.py\u001b[0m in \u001b[0;36modeint\u001b[1;34m(func, y0, t, args, Dfun, col_deriv, full_output, ml, mu, rtol, atol, tcrit, h0, hmax, hmin, ixpr, mxstep, mxhnil, mxordn, mxords, printmessg, tfirst)\u001b[0m\n\u001b[0;32m    231\u001b[0m                              \u001b[0mfull_output\u001b[0m\u001b[1;33m,\u001b[0m \u001b[0mrtol\u001b[0m\u001b[1;33m,\u001b[0m \u001b[0matol\u001b[0m\u001b[1;33m,\u001b[0m \u001b[0mtcrit\u001b[0m\u001b[1;33m,\u001b[0m \u001b[0mh0\u001b[0m\u001b[1;33m,\u001b[0m \u001b[0mhmax\u001b[0m\u001b[1;33m,\u001b[0m \u001b[0mhmin\u001b[0m\u001b[1;33m,\u001b[0m\u001b[1;33m\u001b[0m\u001b[0m\n\u001b[0;32m    232\u001b[0m                              \u001b[0mixpr\u001b[0m\u001b[1;33m,\u001b[0m \u001b[0mmxstep\u001b[0m\u001b[1;33m,\u001b[0m \u001b[0mmxhnil\u001b[0m\u001b[1;33m,\u001b[0m \u001b[0mmxordn\u001b[0m\u001b[1;33m,\u001b[0m \u001b[0mmxords\u001b[0m\u001b[1;33m,\u001b[0m\u001b[1;33m\u001b[0m\u001b[0m\n\u001b[1;32m--> 233\u001b[1;33m                              int(bool(tfirst)))\n\u001b[0m\u001b[0;32m    234\u001b[0m     \u001b[1;32mif\u001b[0m \u001b[0moutput\u001b[0m\u001b[1;33m[\u001b[0m\u001b[1;33m-\u001b[0m\u001b[1;36m1\u001b[0m\u001b[1;33m]\u001b[0m \u001b[1;33m<\u001b[0m \u001b[1;36m0\u001b[0m\u001b[1;33m:\u001b[0m\u001b[1;33m\u001b[0m\u001b[0m\n\u001b[0;32m    235\u001b[0m         \u001b[0mwarning_msg\u001b[0m \u001b[1;33m=\u001b[0m \u001b[0m_msgs\u001b[0m\u001b[1;33m[\u001b[0m\u001b[0moutput\u001b[0m\u001b[1;33m[\u001b[0m\u001b[1;33m-\u001b[0m\u001b[1;36m1\u001b[0m\u001b[1;33m]\u001b[0m\u001b[1;33m]\u001b[0m \u001b[1;33m+\u001b[0m \u001b[1;34m\" Run with full_output = 1 to get quantitative information.\"\u001b[0m\u001b[1;33m\u001b[0m\u001b[0m\n",
      "\u001b[1;31mValueError\u001b[0m: Initial condition y0 must be one-dimensional."
     ]
    }
   ],
   "source": [
    "# OPTION TWO\n",
    "x_0 = [u1, a1, u2, a2]; # initial conditions\n",
    "I1 = 0.43; I2 = 0.5;\n",
    "\n",
    "def f(x) :\n",
    "    if (x<0) :\n",
    "        y = 0;\n",
    "    else :\n",
    "        y = 1;\n",
    "    return y\n",
    "\n",
    "def  laing_chow (val, t, I1, I2) :\n",
    "    alpha = 0.2 ; beta = 0.4; phi = 0.4; tau = 20 ; g1 = 1; g2 = 1;\n",
    "    u1,a1,u2,a2 = val;\n",
    "    du1dt = - u1 + f(alpha*u1*g1 - beta*u2*g2 - a1 + I1)\n",
    "    du2dt = - u2 + f(alpha*u2*g2 - beta*u1*g1 - a2 + I2)  \n",
    "    da1dt = (1/tau)* (-a1 + phi*f(alpha*u1*g1 - beta*u2*g2 - a1 + I1))\n",
    "    da2dt = (1/tau)* (-a2 + phi*f(alpha*u2*g2 - beta*u1*g1 - a2 + I2))\n",
    "    y = [du1dt , du2dt, da1dt, da2dt]\n",
    "    return y\n",
    "\n",
    "sol = odeint(laing_chow, x_0, t, args=(I1,I2))\n",
    "plt.plot(sol[:,0])"
   ]
  },
  {
   "cell_type": "code",
   "execution_count": null,
   "metadata": {},
   "outputs": [],
   "source": []
  },
  {
   "cell_type": "code",
   "execution_count": 6,
   "metadata": {},
   "outputs": [
    {
     "data": {
      "text/plain": [
       "[<matplotlib.lines.Line2D at 0x15f2fc170b8>]"
      ]
     },
     "execution_count": 6,
     "metadata": {},
     "output_type": "execute_result"
    },
    {
     "data": {
      "image/png": "[encoded data removed]",
      "text/plain": [
       "<Figure size 432x288 with 1 Axes>"
      ]
     },
     "metadata": {
      "needs_background": "light"
     },
     "output_type": "display_data"
    }
   ],
   "source": [
    "#Population active if u1 > u2\n",
    "x1 = u1 > u2; #p1 is active when x1 = 1\n",
    "x2 = u2 > u1; #p2 is active when x2 = 1\n",
    "def dominance_durations(x1,x2,t) :\n",
    "    D1 = t[x1];\n",
    "    D2 = t[x2];\n",
    "    return D1,D2\n",
    "\n",
    "D1,D2 = dominance_durations(x1,x2,t)\n",
    "plt.plot(t[x1==0],x1[x1==0],'*')"
   ]
  },
  {
   "cell_type": "code",
   "execution_count": null,
   "metadata": {},
   "outputs": [],
   "source": []
  },
  {
   "cell_type": "markdown",
   "metadata": {},
   "source": [
    "## Exercise 2\n",
    "#### Next we will investigate a model of perceptual bistability developed by Moreno-Bote et al. (2007).The model is an attractor network that relies on noise to drive transitions between network states. Once again, while they also present a spiking network model, we will consider only their meanfield firing rate model."
   ]
  },
  {
   "cell_type": "markdown",
   "metadata": {},
   "source": [
    "1. Why can’t you use scipy.integrate.odeint to implement the model in Moreno-Bote et al.\n",
    "(2007)?"
   ]
  },
  {
   "cell_type": "markdown",
   "metadata": {},
   "source": [
    "    We cannot use odeint because in this case we don't have an ordinary differential equation but a stochastic \n",
    "    differential equation, i.e. it contais a random variable (f.e. white noise)."
   ]
  },
  {
   "cell_type": "code",
   "execution_count": null,
   "metadata": {},
   "outputs": [],
   "source": [
    "#Implement Euler-Maruyama method.\n",
    "def euler_maruyama(ffun, gfun, x0, t, args) :\n",
    "    X[0] = x0\n",
    "    dt = 0.1;\n",
    "    X.append = X[-1] + ffun(X[-1])*dt + gfun(X[-1])*np.sqrt(dt)*Wt\n",
    "    "
   ]
  }
 ],
 "metadata": {
  "kernelspec": {
   "display_name": "Python 3",
   "language": "python",
   "name": "python3"
  },
  "language_info": {
   "codemirror_mode": {
    "name": "ipython",
    "version": 3
   },
   "file_extension": ".py",
   "mimetype": "text/x-python",
   "name": "python",
   "nbconvert_exporter": "python",
   "pygments_lexer": "ipython3",
   "version": "3.7.0"
  }
 },
 "nbformat": 4,
 "nbformat_minor": 2
}
